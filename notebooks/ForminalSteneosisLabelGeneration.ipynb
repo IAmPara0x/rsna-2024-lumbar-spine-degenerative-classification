{
 "cells": [
  {
   "cell_type": "code",
   "execution_count": 2,
   "id": "60b5a95c-4e31-4c65-87ad-c147e7a52a13",
   "metadata": {},
   "outputs": [],
   "source": [
    "\n",
    "import sys\n",
    "sys.path.insert(0, \"..\")\n",
    "\n",
    "import os\n",
    "os.environ['CUDA_LAUNCH_BLOCKING'] = \"1\"\n"
   ]
  },
  {
   "cell_type": "code",
   "execution_count": 3,
   "id": "726983a6-27ac-4215-974f-82f1e0c5197e",
   "metadata": {},
   "outputs": [],
   "source": [
    "import torch\n",
    "import torch.nn as nn\n",
    "import numpy as np\n",
    "import pandas as pd\n",
    "import timm\n",
    "from tqdm import tqdm\n",
    "\n",
    "import pickle\n",
    "\n",
    "import cv2\n",
    "import matplotlib.pyplot as plt\n",
    "\n",
    "from dataclasses import dataclass\n",
    "\n",
    "from lib.model import DetectionModel\n",
    "from lib.dataloader import DetectionDataLoader, RSNA24DF\n",
    "from lib.patientInfo import Img, Scan, PatientInfo"
   ]
  },
  {
   "cell_type": "code",
   "execution_count": 4,
   "id": "1c85c9fa-20e5-4fca-8553-ff125feda48c",
   "metadata": {},
   "outputs": [],
   "source": [
    "\n",
    "DATA_DIR = \"../data\"\n",
    "MODEL_NAME = \"tf_efficientnet_b5.ns_jft_in1k\"\n",
    "DEVICE = \"cuda:0\"\n",
    "\n",
    "HEIGHT = 512\n",
    "WIDTH = 512\n",
    "\n",
    "# Network params\n",
    "N_CLASSES = 5\n",
    "HIDDEN_DIM = 768\n",
    "\n",
    "WINDOW_WIDTH = None\n",
    "WINDOW_CENTER = None\n",
    "CHANGE_WINDOW=False\n",
    "\n",
    "OUTPUT_DIR = \"models/sagittial_t2_stir\"\n"
   ]
  },
  {
   "cell_type": "code",
   "execution_count": 5,
   "id": "9731005f-9576-4846-bab0-316c0169c881",
   "metadata": {},
   "outputs": [],
   "source": [
    "train_df = pd.read_csv(f\"{DATA_DIR}/train.csv\")\n",
    "train_df = train_df[ train_df[\"study_id\"].isin([2492114990, 2780132468]) == False]\n",
    "train_label_coordinates_df = pd.read_csv(f\"{DATA_DIR}/train_label_coordinates.csv\")\n",
    "train_series_descriptions_df = pd.read_csv(f\"{DATA_DIR}/train_series_descriptions.csv\")"
   ]
  },
  {
   "cell_type": "code",
   "execution_count": 6,
   "id": "d6d426c4-3b52-4025-b201-4a090358bceb",
   "metadata": {},
   "outputs": [],
   "source": [
    "rsna24df = RSNA24DF(train_df, train_label_coordinates_df, train_series_descriptions_df, f\"{DATA_DIR}/train_images\")"
   ]
  },
  {
   "cell_type": "code",
   "execution_count": 7,
   "id": "20e9c0bd-741d-47df-b5e3-886f97438d65",
   "metadata": {},
   "outputs": [],
   "source": [
    "class ForminalNarrowingDataLoader(DetectionDataLoader):\n",
    "    def __init__(self\n",
    "             , patient_ids\n",
    "             , positive_negative_ratio=0.45\n",
    "             , positive_augment_prob=0.25\n",
    "             , negative_augment_prob=0.15\n",
    "             , rsna24DF=rsna24df\n",
    "             , transformations=[]\n",
    "             , height=HEIGHT\n",
    "             , width=WIDTH\n",
    "             , phase = \"train\"\n",
    "             , window_width=WINDOW_WIDTH\n",
    "             , window_center=WINDOW_CENTER\n",
    "             , change_window=CHANGE_WINDOW\n",
    "             ) -> None:\n",
    "        super().__init__(patient_ids=patient_ids \n",
    "                         , rsna24DF=rsna24DF\n",
    "                         , transformations=transformations\n",
    "                         , height=height \n",
    "                         , width=width \n",
    "                         , positive_negative_ratio=positive_negative_ratio \n",
    "                         , positive_augment_prob=positive_augment_prob \n",
    "                         , negative_augment_prob=negative_augment_prob\n",
    "                         , phase=phase\n",
    "                         , window_center=window_center\n",
    "                         , window_width=window_width\n",
    "                         , change_window=change_window\n",
    "                        )\n",
    "\n",
    "    def _get_patient_scans(self, patient_info) -> list[Img]:\n",
    "        x = patient_info.get_scans(Scan.SagittalT1)\n",
    "        if len(x) == 0:\n",
    "            print(patient_info.patient_id)\n",
    "        return x\n",
    "        \n",
    "    def _mk_target_array(self, x, labels) -> tuple[np.ndarray, np.ndarray]:\n",
    "        y_class, y_loc = np.zeros(N_CLASSES), np.zeros((N_CLASSES, 2))\n",
    "\n",
    "        for label in labels:\n",
    "            level = label.location.disc_level.to_int()\n",
    "            y_class[level] = 1.0\n",
    "            y_loc[level] = np.array([label.x, label.y])\n",
    "        \n",
    "        return y_class, y_loc\n",
    "\n"
   ]
  },
  {
   "cell_type": "code",
   "execution_count": 8,
   "id": "a1a66793-9081-4407-a39e-84d1bb62663a",
   "metadata": {},
   "outputs": [
    {
     "name": "stderr",
     "output_type": "stream",
     "text": [
      "Unexpected keys (bn2.bias, bn2.num_batches_tracked, bn2.running_mean, bn2.running_var, bn2.weight, classifier.bias, classifier.weight, conv_head.weight) found while loading pretrained weights. This may be expected if model is being adapted.\n"
     ]
    },
    {
     "name": "stdout",
     "output_type": "stream",
     "text": [
      "Done loading weights\n"
     ]
    }
   ],
   "source": [
    "\n",
    "model = DetectionModel(MODEL_NAME, n_classes=N_CLASSES, coord_dim=2, hidden_dim=HIDDEN_DIM).to(DEVICE)\n",
    "model.load_state_dict(torch.load(\"../models/sagittial_t1/best_loc_model_fold-0.pt\"))\n",
    "model.eval()\n",
    "print(\"Done loading weights\")"
   ]
  },
  {
   "cell_type": "code",
   "execution_count": 9,
   "id": "b6474adb-baa1-454a-81dd-1c4c5cecf22b",
   "metadata": {},
   "outputs": [],
   "source": [
    "\n",
    "patient_ids = train_df[\"study_id\"].unique()\n",
    "ds = ForminalNarrowingDataLoader(patient_ids, phase='pred', transformations=[])"
   ]
  },
  {
   "cell_type": "code",
   "execution_count": 10,
   "id": "f1f4072c-be01-4f97-841d-2a7bc1ad0735",
   "metadata": {},
   "outputs": [],
   "source": [
    "\n",
    "@dataclass\n",
    "class ForminalNarrowingLevelLocs:\n",
    "    disc_pixel_loc: np.ndarray\n",
    "    img_idxs: np.ndarray\n",
    "    img_type: Scan\n",
    "    disc_loc_mm: np.ndarray\n",
    "    patient_id: int\n",
    "\n",
    "\n",
    "def get_disc_level_loc(patient_idx, threshold=0.4):\n",
    "\n",
    "    xs, imgs = ds[patient_idx]\n",
    "    xs = torch.from_numpy(xs).to(DEVICE)\n",
    "    num_imgs = xs.shape[0]\n",
    "\n",
    "    print(f\"num_imgs: {num_imgs:}\")\n",
    "\n",
    "    with torch.no_grad():\n",
    "        pred_class, pred_loc = model(xs)\n",
    "        pred_class = pred_class.sigmoid().cpu()\n",
    "        pred_loc = pred_loc.reshape(num_imgs, N_CLASSES, 2).cpu()\n",
    "\n",
    "    #     max_class_prob = pred_class.max(0)\n",
    "    #     disc_locs = pred_loc[max_class_prob.indices, torch.arange(5), :]\n",
    "\n",
    "    # disc_loc_mm = []\n",
    "\n",
    "    # for level, img_idx in enumerate(max_class_prob.indices):\n",
    "    #     img = imgs[img_idx].dicom\n",
    "    #     h,w = img.pixel_array.shape\n",
    "    #     r_height, r_width = h/HEIGHT, w/WIDTH\n",
    "\n",
    "    #     # X coordinate\n",
    "    #     disc_locs[level,0] *= r_width\n",
    "        \n",
    "    #     # Y coordinate\n",
    "    #     disc_locs[level,1] *= r_height\n",
    "\n",
    "    #     # disc loc in mm = z coord - pixel_spacing_y * pixel_loc\n",
    "    #     disc_loc_mm.append( img.ImagePositionPatient[2] -  img.PixelSpacing[0] * disc_locs[level,1])\n",
    "\n",
    "\n",
    "    # disc_level_locs = DiscLevelLocs( disc_pixel_loc=disc_locs.numpy()\n",
    "    #                                , disc_loc_mm=np.array(disc_loc_mm)\n",
    "    #                                , img_idxs = max_class_prob.indices.numpy()\n",
    "    #                                , img_type = Scan.SagittalT2_STIR\n",
    "    #                                , patient_id=patient_ids[patient_idx]\n",
    "    #                                )\n",
    "\n",
    "    # return disc_level_locs\n"
   ]
  },
  {
   "cell_type": "code",
   "execution_count": 16,
   "id": "c53f2f20-aca0-4e89-b637-34191e0e5d5e",
   "metadata": {},
   "outputs": [
    {
     "name": "stdout",
     "output_type": "stream",
     "text": [
      "num_imgs: 17\n"
     ]
    }
   ],
   "source": [
    "\n",
    "disc_level_locs = get_disc_level_loc(1)"
   ]
  },
  {
   "cell_type": "code",
   "execution_count": null,
   "id": "0f18b469-181e-4c29-bf07-500ca1e7c251",
   "metadata": {},
   "outputs": [],
   "source": []
  }
 ],
 "metadata": {
  "kernelspec": {
   "display_name": "Python 3 (ipykernel)",
   "language": "python",
   "name": "python3"
  },
  "language_info": {
   "codemirror_mode": {
    "name": "ipython",
    "version": 3
   },
   "file_extension": ".py",
   "mimetype": "text/x-python",
   "name": "python",
   "nbconvert_exporter": "python",
   "pygments_lexer": "ipython3",
   "version": "3.12.4"
  }
 },
 "nbformat": 4,
 "nbformat_minor": 5
}
