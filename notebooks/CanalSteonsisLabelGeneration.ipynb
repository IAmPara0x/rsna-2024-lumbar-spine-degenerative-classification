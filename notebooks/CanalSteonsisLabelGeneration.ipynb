{
 "cells": [
  {
   "cell_type": "code",
   "execution_count": 1,
   "id": "172b20d2-4760-4a61-a82a-d5dea056c827",
   "metadata": {},
   "outputs": [],
   "source": [
    "\n",
    "import sys\n",
    "sys.path.insert(0, \"..\")\n",
    "\n",
    "import os\n",
    "os.environ['CUDA_LAUNCH_BLOCKING'] = \"1\"\n"
   ]
  },
  {
   "cell_type": "code",
   "execution_count": 2,
   "id": "592194e1-3a4f-4632-960f-a0297e51157a",
   "metadata": {},
   "outputs": [],
   "source": [
    "import torch\n",
    "import torch.nn as nn\n",
    "import numpy as np\n",
    "import pandas as pd\n",
    "import timm\n",
    "from tqdm import tqdm\n",
    "\n",
    "import pickle\n",
    "\n",
    "import cv2\n",
    "import matplotlib.pyplot as plt\n",
    "\n",
    "from dataclasses import dataclass\n",
    "\n",
    "from lib.model import DetectionModel\n",
    "from lib.dataloader import DetectionDataLoader, RSNA24DF\n",
    "from lib.patientInfo import Img, Scan, PatientInfo"
   ]
  },
  {
   "cell_type": "code",
   "execution_count": 3,
   "id": "75b60b99-609f-42ca-9b71-0aecd24d92f5",
   "metadata": {},
   "outputs": [],
   "source": [
    "\n",
    "\n",
    "DATA_DIR = \"../data\"\n",
    "MODEL_NAME = \"tf_efficientnet_b5.ns_jft_in1k\"\n",
    "DEVICE = \"cuda:0\"\n",
    "# MODEL_DIR = \"/home/paradox/Desktop/ai/rsna-2024-lumbar-spine-degenerative-classification/models/sagittial_t2_stir\"\n",
    "\n",
    "EPOCHS = 20\n",
    "\n",
    "HEIGHT = 512\n",
    "WIDTH = 512\n",
    "\n",
    "# Network params\n",
    "N_CLASSES = 5\n",
    "HIDDEN_DIM = 768\n",
    "NORMALISE=255.0\n",
    "\n",
    "\n",
    "WINDOW_WIDTH = None\n",
    "WINDOW_CENTER = None\n",
    "CHANGE_WINDOW=False\n",
    "\n",
    "OUTPUT_DIR = \"../processed-data/test-data/\"\n",
    "\n"
   ]
  },
  {
   "cell_type": "code",
   "execution_count": 4,
   "id": "204786d9-7020-45e3-b2d4-641ac524c45a",
   "metadata": {},
   "outputs": [],
   "source": [
    "# train_df = pd.read_csv(f\"{DATA_DIR}/train.csv\")\n",
    "# train_df = train_df[train_df[\"study_id\"] != 3008676218]\n",
    "# train_label_coordinates_df = pd.read_csv(f\"{DATA_DIR}/train_label_coordinates.csv\")\n",
    "\n",
    "test_series_descriptions_df = pd.read_csv(f\"{DATA_DIR}/test_series_descriptions.csv\")\n",
    "\n",
    "rsna24df = RSNA24DF(None, None, test_series_descriptions_df, f\"{DATA_DIR}/test_images\")"
   ]
  },
  {
   "cell_type": "code",
   "execution_count": 5,
   "id": "59427d2c-bfb1-4980-9f9e-dc3b016ff286",
   "metadata": {},
   "outputs": [],
   "source": [
    "class CanalSteneosisDataLoader(DetectionDataLoader):\n",
    "    def __init__(self\n",
    "             , patient_ids\n",
    "             , positive_negative_ratio=0.5\n",
    "             , positive_augment_prob=0.25\n",
    "             , negative_augment_prob=0.15\n",
    "             , rsna24DF=rsna24df\n",
    "             , transformations=[]\n",
    "             , height=HEIGHT\n",
    "             , width=WIDTH\n",
    "             , phase = \"train\"\n",
    "             , window_width=WINDOW_WIDTH\n",
    "             , window_center=WINDOW_CENTER\n",
    "             , change_window=CHANGE_WINDOW\n",
    "             , normalise=NORMALISE\n",
    "             ) -> None:\n",
    "        super().__init__(patient_ids=patient_ids \n",
    "                         , rsna24DF=rsna24DF\n",
    "                         , transformations=transformations\n",
    "                         , height=height \n",
    "                         , width=width \n",
    "                         , positive_negative_ratio=positive_negative_ratio \n",
    "                         , positive_augment_prob=positive_augment_prob \n",
    "                         , negative_augment_prob=negative_augment_prob\n",
    "                         , phase=phase\n",
    "                         , window_center=window_center\n",
    "                         , window_width=window_width\n",
    "                         , change_window=change_window\n",
    "                         , normalise=normalise\n",
    "                        )\n",
    "\n",
    "    def _get_patient_scans(self, patient_info) -> list[Img]:\n",
    "        return patient_info.get_scans(Scan.SagittalT2_STIR)\n",
    "        \n",
    "    def _mk_target_array(self, x, labels) -> tuple[np.ndarray, np.ndarray]:\n",
    "        y_class, y_loc = np.zeros(N_CLASSES), np.zeros((N_CLASSES, 2))\n",
    "\n",
    "        for label in labels:\n",
    "            level = label.location.disc_level.to_int()\n",
    "            y_class[level] = 1.0\n",
    "            y_loc[level] = np.array([label.x, label.y])\n",
    "        \n",
    "        return y_class, y_loc"
   ]
  },
  {
   "cell_type": "code",
   "execution_count": 6,
   "id": "2a4c62fe-e8a2-4f9c-bf6c-34cbda37cc9c",
   "metadata": {},
   "outputs": [
    {
     "name": "stderr",
     "output_type": "stream",
     "text": [
      "Unexpected keys (bn2.bias, bn2.num_batches_tracked, bn2.running_mean, bn2.running_var, bn2.weight, classifier.bias, classifier.weight, conv_head.weight) found while loading pretrained weights. This may be expected if model is being adapted.\n"
     ]
    },
    {
     "name": "stdout",
     "output_type": "stream",
     "text": [
      "Done loading weights\n"
     ]
    }
   ],
   "source": [
    "model = DetectionModel(MODEL_NAME, n_classes=N_CLASSES, coord_dim=2, hidden_dim=HIDDEN_DIM).to(DEVICE)\n",
    "model.load_state_dict(torch.load(\"../models/sagittial_t2_stir/best_loc_model_fold-0.pt\"))\n",
    "model.eval()\n",
    "print(\"Done loading weights\")"
   ]
  },
  {
   "cell_type": "code",
   "execution_count": 10,
   "id": "f071b279-b334-4e00-ab77-a45db5954392",
   "metadata": {},
   "outputs": [
    {
     "data": {
      "text/plain": [
       "array([44036939])"
      ]
     },
     "execution_count": 10,
     "metadata": {},
     "output_type": "execute_result"
    }
   ],
   "source": [
    "patient_ids"
   ]
  },
  {
   "cell_type": "code",
   "execution_count": 11,
   "id": "b45553d9-6ae3-4bfa-b4f3-79d339bc6df7",
   "metadata": {},
   "outputs": [
    {
     "data": {
      "text/plain": [
       "(3, 3)"
      ]
     },
     "execution_count": 11,
     "metadata": {},
     "output_type": "execute_result"
    }
   ],
   "source": [
    "test_series_descriptions_df.shape"
   ]
  },
  {
   "cell_type": "code",
   "execution_count": 7,
   "id": "ed618454-c122-49d9-934a-7fb49fc396d4",
   "metadata": {},
   "outputs": [],
   "source": [
    "patient_ids = test_series_descriptions_df[\"study_id\"].unique()\n",
    "ds = CanalSteneosisDataLoader(patient_ids, phase='pred', transformations=[])"
   ]
  },
  {
   "cell_type": "code",
   "execution_count": 8,
   "id": "24b53eb0-e24e-4e84-8d6f-5cee5bb5f3b3",
   "metadata": {},
   "outputs": [],
   "source": [
    "@dataclass\n",
    "class DiscLevelLocs:\n",
    "    disc_pixel_loc: np.ndarray\n",
    "    img_idxs: np.ndarray\n",
    "    img_type: Scan\n",
    "    disc_loc_mm: np.ndarray\n",
    "    patient_id: int\n",
    "    \n",
    "\n",
    "def get_disc_level_loc(patient_idx, threshold=0.4):\n",
    "\n",
    "    xs, imgs = ds[patient_idx]\n",
    "    xs = torch.from_numpy(xs).to(DEVICE)\n",
    "    num_imgs = xs.shape[0]\n",
    "\n",
    "    with torch.no_grad():\n",
    "        pred_class, pred_loc = model(xs)\n",
    "        pred_class = pred_class.sigmoid().cpu()\n",
    "        pred_loc = pred_loc.reshape(num_imgs, N_CLASSES, 2).cpu()\n",
    "\n",
    "        max_class_prob = pred_class.max(0)\n",
    "        disc_locs = pred_loc[max_class_prob.indices, torch.arange(5), :]\n",
    "\n",
    "    disc_loc_mm = []\n",
    "\n",
    "    for level, img_idx in enumerate(max_class_prob.indices):\n",
    "        img = imgs[img_idx].dicom\n",
    "        h,w = img.pixel_array.shape\n",
    "        r_height, r_width = h/HEIGHT, w/WIDTH\n",
    "\n",
    "        # X coordinate\n",
    "        disc_locs[level,0] *= r_width\n",
    "        \n",
    "        # Y coordinate\n",
    "        disc_locs[level,1] *= r_height\n",
    "\n",
    "        # disc loc in mm = z coord - pixel_spacing_y * pixel_loc\n",
    "        disc_loc_mm.append( img.ImagePositionPatient[2] -  img.PixelSpacing[0] * disc_locs[level,1])\n",
    "\n",
    "\n",
    "    disc_level_locs = DiscLevelLocs( disc_pixel_loc=disc_locs.numpy()\n",
    "                                   , disc_loc_mm=np.array(disc_loc_mm)\n",
    "                                   , img_idxs = max_class_prob.indices.numpy()\n",
    "                                   , img_type = Scan.SagittalT2_STIR\n",
    "                                   , patient_id=patient_ids[patient_idx]\n",
    "                                   )\n",
    "\n",
    "    return disc_level_locs\n"
   ]
  },
  {
   "cell_type": "code",
   "execution_count": 9,
   "id": "7f87b709-d301-4a9e-a74d-b0f27584fae0",
   "metadata": {},
   "outputs": [
    {
     "name": "stderr",
     "output_type": "stream",
     "text": [
      "  0%|                                                                                                                                                                                        | 0/1 [00:00<?, ?it/s]/home/paradox/.local/lib/python3.12/site-packages/torch/nn/modules/conv.py:456: UserWarning: Plan failed with a cudnnException: CUDNN_BACKEND_EXECUTION_PLAN_DESCRIPTOR: cudnnFinalize Descriptor Failed cudnn_status: CUDNN_STATUS_NOT_SUPPORTED (Triggered internally at ../aten/src/ATen/native/cudnn/Conv_v8.cpp:919.)\n",
      "  return F.conv2d(input, weight, bias, self.stride,\n",
      "100%|████████████████████████████████████████████████████████████████████████████████████████████████████████████████████████████████████████████████████████████████████████████████| 1/1 [00:00<00:00,  2.13it/s]\n"
     ]
    }
   ],
   "source": [
    "for idx in tqdm(range(len(ds))):\n",
    "    disc_level_locs = get_disc_level_loc(idx)\n",
    "\n",
    "    with open(f\"{OUTPUT_DIR}/{disc_level_locs.patient_id}.pkl\", \"wb\") as f:\n",
    "        pickle.dump(disc_level_locs, f)"
   ]
  },
  {
   "cell_type": "code",
   "execution_count": null,
   "id": "525cce6c-41ab-40c8-a4fa-e946c9b8ad24",
   "metadata": {},
   "outputs": [],
   "source": [
    "disc_level_locs = get_disc_level_loc(0)\n",
    "\n",
    "# locs, disc_loc_mm, img_idxs\n",
    "disc_level_locs.disc_pixel_loc, disc_level_locs.disc_loc_mm, disc_level_locs.img_idxs"
   ]
  },
  {
   "cell_type": "code",
   "execution_count": null,
   "id": "2f090973-f2f5-4c92-bdb5-55f035172f6a",
   "metadata": {},
   "outputs": [],
   "source": [
    "import pandas as pd"
   ]
  },
  {
   "cell_type": "code",
   "execution_count": null,
   "id": "1576ecfe-8918-4841-b39e-b1fb6770c53f",
   "metadata": {},
   "outputs": [],
   "source": [
    "test_df = pd.read_csv(\"../data/test_series_descriptions.csv\")"
   ]
  },
  {
   "cell_type": "code",
   "execution_count": null,
   "id": "dd3b4e01-b9d7-4781-ad89-73989ede6849",
   "metadata": {},
   "outputs": [],
   "source": [
    "test_df.head()"
   ]
  },
  {
   "cell_type": "code",
   "execution_count": null,
   "id": "d0c58392-b387-49fb-aa9a-652f56f4d504",
   "metadata": {},
   "outputs": [],
   "source": [
    "patient_info = PatientInfo.from_df( 44036939, None, test_series_descriptions_df, None, \"../data/test_images/\", patient_type=\"test\")"
   ]
  },
  {
   "cell_type": "code",
   "execution_count": null,
   "id": "413f45ec-edc0-4ee1-91bb-6d66ee735c94",
   "metadata": {},
   "outputs": [],
   "source": [
    "for idx,img in enumerate(patient_info.get_scans(disc_level_locs.img_type)):\n",
    "    if idx in disc_level_locs.img_idxs:\n",
    "        x = img.dicom.pixel_array\n",
    "        x = cv2.normalize(x, None, alpha=0, beta=255, norm_type=cv2.NORM_MINMAX, dtype=cv2.CV_8U)\n",
    "\n",
    "        print(x.shape)\n",
    "        print(idx, disc_level_locs.disc_pixel_loc[disc_level_locs.img_idxs == idx, :])\n",
    "        for loc in disc_level_locs.disc_pixel_loc[disc_level_locs.img_idxs == idx, :]:\n",
    "            c = (int(loc[0]), int(loc[1]))\n",
    "            x = cv2.circle(x.copy(), c, 10, (255,192,203), 2)\n",
    "        plt.imshow(x)\n",
    "        plt.show()"
   ]
  },
  {
   "cell_type": "code",
   "execution_count": null,
   "id": "10cd959c-addf-4bc8-b62a-b740ec92feb9",
   "metadata": {},
   "outputs": [],
   "source": [
    "for img in patient_info.get_scans(Scan.AxialT2):\n",
    "    print(img.dicom.ImagePositionPatient[2])"
   ]
  },
  {
   "cell_type": "code",
   "execution_count": null,
   "id": "445b0408-7899-4ff9-8e92-6aa064f08a00",
   "metadata": {},
   "outputs": [],
   "source": []
  }
 ],
 "metadata": {
  "kernelspec": {
   "display_name": "Python 3 (ipykernel)",
   "language": "python",
   "name": "python3"
  },
  "language_info": {
   "codemirror_mode": {
    "name": "ipython",
    "version": 3
   },
   "file_extension": ".py",
   "mimetype": "text/x-python",
   "name": "python",
   "nbconvert_exporter": "python",
   "pygments_lexer": "ipython3",
   "version": "3.12.4"
  }
 },
 "nbformat": 4,
 "nbformat_minor": 5
}
